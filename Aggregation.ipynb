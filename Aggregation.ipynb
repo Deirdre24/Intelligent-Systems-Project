{
  "nbformat": 4,
  "nbformat_minor": 0,
  "metadata": {
    "colab": {
      "provenance": []
    },
    "kernelspec": {
      "name": "python3",
      "display_name": "Python 3"
    },
    "language_info": {
      "name": "python"
    }
  },
  "cells": [
    {
      "cell_type": "markdown",
      "source": [],
      "metadata": {
        "id": "1uhQEnOuUnnI"
      }
    },
    {
      "cell_type": "code",
      "execution_count": null,
      "metadata": {
        "id": "qSaL7j5e86Dc",
        "colab": {
          "base_uri": "https://localhost:8080/"
        },
        "outputId": "4c1ddc7e-ee53-46c8-899e-94f52abdd952"
      },
      "outputs": [
        {
          "output_type": "stream",
          "name": "stdout",
          "text": [
            "Requirement already satisfied: graphviz in /usr/local/lib/python3.10/dist-packages (0.20.3)\n"
          ]
        }
      ],
      "source": [
        "!pip install graphviz"
      ]
    },
    {
      "cell_type": "code",
      "source": [
        "# Install Graphviz system package\n",
        "!apt-get install -y graphviz"
      ],
      "metadata": {
        "colab": {
          "base_uri": "https://localhost:8080/"
        },
        "id": "p0AHHXLQ-cW3",
        "outputId": "92c64ce6-9d43-413d-a51d-56e72140515b"
      },
      "execution_count": null,
      "outputs": [
        {
          "output_type": "stream",
          "name": "stdout",
          "text": [
            "Reading package lists... Done\n",
            "Building dependency tree... Done\n",
            "Reading state information... Done\n",
            "graphviz is already the newest version (2.42.2-6ubuntu0.1).\n",
            "0 upgraded, 0 newly installed, 0 to remove and 49 not upgraded.\n"
          ]
        }
      ]
    },
    {
      "cell_type": "code",
      "source": [
        "import pandas as pd\n",
        "import numpy as np\n",
        "import re"
      ],
      "metadata": {
        "id": "7Lu-_n-k_Pax"
      },
      "execution_count": null,
      "outputs": []
    },
    {
      "cell_type": "code",
      "source": [
        "from google.colab import files\n",
        "\n",
        "# Upload the file\n",
        "uploaded = files.upload()"
      ],
      "metadata": {
        "colab": {
          "base_uri": "https://localhost:8080/",
          "height": 73
        },
        "id": "kgXzKIPB_RkD",
        "outputId": "f8832dd7-ef0b-4fa6-d6de-01ea7f24588b"
      },
      "execution_count": null,
      "outputs": [
        {
          "output_type": "display_data",
          "data": {
            "text/plain": [
              "<IPython.core.display.HTML object>"
            ],
            "text/html": [
              "\n",
              "     <input type=\"file\" id=\"files-ae8f7d65-2446-4416-9fe8-b35e816861f1\" name=\"files[]\" multiple disabled\n",
              "        style=\"border:none\" />\n",
              "     <output id=\"result-ae8f7d65-2446-4416-9fe8-b35e816861f1\">\n",
              "      Upload widget is only available when the cell has been executed in the\n",
              "      current browser session. Please rerun this cell to enable.\n",
              "      </output>\n",
              "      <script>// Copyright 2017 Google LLC\n",
              "//\n",
              "// Licensed under the Apache License, Version 2.0 (the \"License\");\n",
              "// you may not use this file except in compliance with the License.\n",
              "// You may obtain a copy of the License at\n",
              "//\n",
              "//      http://www.apache.org/licenses/LICENSE-2.0\n",
              "//\n",
              "// Unless required by applicable law or agreed to in writing, software\n",
              "// distributed under the License is distributed on an \"AS IS\" BASIS,\n",
              "// WITHOUT WARRANTIES OR CONDITIONS OF ANY KIND, either express or implied.\n",
              "// See the License for the specific language governing permissions and\n",
              "// limitations under the License.\n",
              "\n",
              "/**\n",
              " * @fileoverview Helpers for google.colab Python module.\n",
              " */\n",
              "(function(scope) {\n",
              "function span(text, styleAttributes = {}) {\n",
              "  const element = document.createElement('span');\n",
              "  element.textContent = text;\n",
              "  for (const key of Object.keys(styleAttributes)) {\n",
              "    element.style[key] = styleAttributes[key];\n",
              "  }\n",
              "  return element;\n",
              "}\n",
              "\n",
              "// Max number of bytes which will be uploaded at a time.\n",
              "const MAX_PAYLOAD_SIZE = 100 * 1024;\n",
              "\n",
              "function _uploadFiles(inputId, outputId) {\n",
              "  const steps = uploadFilesStep(inputId, outputId);\n",
              "  const outputElement = document.getElementById(outputId);\n",
              "  // Cache steps on the outputElement to make it available for the next call\n",
              "  // to uploadFilesContinue from Python.\n",
              "  outputElement.steps = steps;\n",
              "\n",
              "  return _uploadFilesContinue(outputId);\n",
              "}\n",
              "\n",
              "// This is roughly an async generator (not supported in the browser yet),\n",
              "// where there are multiple asynchronous steps and the Python side is going\n",
              "// to poll for completion of each step.\n",
              "// This uses a Promise to block the python side on completion of each step,\n",
              "// then passes the result of the previous step as the input to the next step.\n",
              "function _uploadFilesContinue(outputId) {\n",
              "  const outputElement = document.getElementById(outputId);\n",
              "  const steps = outputElement.steps;\n",
              "\n",
              "  const next = steps.next(outputElement.lastPromiseValue);\n",
              "  return Promise.resolve(next.value.promise).then((value) => {\n",
              "    // Cache the last promise value to make it available to the next\n",
              "    // step of the generator.\n",
              "    outputElement.lastPromiseValue = value;\n",
              "    return next.value.response;\n",
              "  });\n",
              "}\n",
              "\n",
              "/**\n",
              " * Generator function which is called between each async step of the upload\n",
              " * process.\n",
              " * @param {string} inputId Element ID of the input file picker element.\n",
              " * @param {string} outputId Element ID of the output display.\n",
              " * @return {!Iterable<!Object>} Iterable of next steps.\n",
              " */\n",
              "function* uploadFilesStep(inputId, outputId) {\n",
              "  const inputElement = document.getElementById(inputId);\n",
              "  inputElement.disabled = false;\n",
              "\n",
              "  const outputElement = document.getElementById(outputId);\n",
              "  outputElement.innerHTML = '';\n",
              "\n",
              "  const pickedPromise = new Promise((resolve) => {\n",
              "    inputElement.addEventListener('change', (e) => {\n",
              "      resolve(e.target.files);\n",
              "    });\n",
              "  });\n",
              "\n",
              "  const cancel = document.createElement('button');\n",
              "  inputElement.parentElement.appendChild(cancel);\n",
              "  cancel.textContent = 'Cancel upload';\n",
              "  const cancelPromise = new Promise((resolve) => {\n",
              "    cancel.onclick = () => {\n",
              "      resolve(null);\n",
              "    };\n",
              "  });\n",
              "\n",
              "  // Wait for the user to pick the files.\n",
              "  const files = yield {\n",
              "    promise: Promise.race([pickedPromise, cancelPromise]),\n",
              "    response: {\n",
              "      action: 'starting',\n",
              "    }\n",
              "  };\n",
              "\n",
              "  cancel.remove();\n",
              "\n",
              "  // Disable the input element since further picks are not allowed.\n",
              "  inputElement.disabled = true;\n",
              "\n",
              "  if (!files) {\n",
              "    return {\n",
              "      response: {\n",
              "        action: 'complete',\n",
              "      }\n",
              "    };\n",
              "  }\n",
              "\n",
              "  for (const file of files) {\n",
              "    const li = document.createElement('li');\n",
              "    li.append(span(file.name, {fontWeight: 'bold'}));\n",
              "    li.append(span(\n",
              "        `(${file.type || 'n/a'}) - ${file.size} bytes, ` +\n",
              "        `last modified: ${\n",
              "            file.lastModifiedDate ? file.lastModifiedDate.toLocaleDateString() :\n",
              "                                    'n/a'} - `));\n",
              "    const percent = span('0% done');\n",
              "    li.appendChild(percent);\n",
              "\n",
              "    outputElement.appendChild(li);\n",
              "\n",
              "    const fileDataPromise = new Promise((resolve) => {\n",
              "      const reader = new FileReader();\n",
              "      reader.onload = (e) => {\n",
              "        resolve(e.target.result);\n",
              "      };\n",
              "      reader.readAsArrayBuffer(file);\n",
              "    });\n",
              "    // Wait for the data to be ready.\n",
              "    let fileData = yield {\n",
              "      promise: fileDataPromise,\n",
              "      response: {\n",
              "        action: 'continue',\n",
              "      }\n",
              "    };\n",
              "\n",
              "    // Use a chunked sending to avoid message size limits. See b/62115660.\n",
              "    let position = 0;\n",
              "    do {\n",
              "      const length = Math.min(fileData.byteLength - position, MAX_PAYLOAD_SIZE);\n",
              "      const chunk = new Uint8Array(fileData, position, length);\n",
              "      position += length;\n",
              "\n",
              "      const base64 = btoa(String.fromCharCode.apply(null, chunk));\n",
              "      yield {\n",
              "        response: {\n",
              "          action: 'append',\n",
              "          file: file.name,\n",
              "          data: base64,\n",
              "        },\n",
              "      };\n",
              "\n",
              "      let percentDone = fileData.byteLength === 0 ?\n",
              "          100 :\n",
              "          Math.round((position / fileData.byteLength) * 100);\n",
              "      percent.textContent = `${percentDone}% done`;\n",
              "\n",
              "    } while (position < fileData.byteLength);\n",
              "  }\n",
              "\n",
              "  // All done.\n",
              "  yield {\n",
              "    response: {\n",
              "      action: 'complete',\n",
              "    }\n",
              "  };\n",
              "}\n",
              "\n",
              "scope.google = scope.google || {};\n",
              "scope.google.colab = scope.google.colab || {};\n",
              "scope.google.colab._files = {\n",
              "  _uploadFiles,\n",
              "  _uploadFilesContinue,\n",
              "};\n",
              "})(self);\n",
              "</script> "
            ]
          },
          "metadata": {}
        },
        {
          "output_type": "stream",
          "name": "stdout",
          "text": [
            "Saving Dataset Final.xlsx to Dataset Final.xlsx\n"
          ]
        }
      ]
    },
    {
      "cell_type": "code",
      "source": [
        "import os\n",
        "\n",
        "# List files in the current directory\n",
        "print(os.listdir())"
      ],
      "metadata": {
        "colab": {
          "base_uri": "https://localhost:8080/"
        },
        "id": "F3mkLWCDBsiX",
        "outputId": "25ea7c4f-9797-4262-dd87-6acd9d7ee68b"
      },
      "execution_count": null,
      "outputs": [
        {
          "output_type": "stream",
          "name": "stdout",
          "text": [
            "['.config', 'Dataset Final.xlsx', 'sample_data']\n"
          ]
        }
      ]
    },
    {
      "cell_type": "code",
      "source": [
        "file_path = 'Dataset Final.xlsx'\n",
        "\n",
        "# Check available sheet names\n",
        "xls = pd.ExcelFile(file_path)\n",
        "print(xls.sheet_names)"
      ],
      "metadata": {
        "colab": {
          "base_uri": "https://localhost:8080/"
        },
        "id": "xJQVJ5YWCFan",
        "outputId": "8e582f9c-acca-44e1-f372-c890963dbfc1"
      },
      "execution_count": null,
      "outputs": [
        {
          "output_type": "stream",
          "name": "stdout",
          "text": [
            "['Meal Preferences', 'Morning Routine', 'Commute Patterns', 'Study Habits']\n"
          ]
        }
      ]
    },
    {
      "cell_type": "code",
      "source": [
        "file_path = 'Dataset Final.xlsx'\n",
        "df1 = pd.read_excel(file_path, sheet_name='Meal Preferences')\n",
        "df2 = pd.read_excel(file_path, sheet_name='Morning Routine')\n",
        "df3 = pd.read_excel(file_path, sheet_name='Commute Patterns')\n",
        "df4 = pd.read_excel(file_path, sheet_name='Study Habits')"
      ],
      "metadata": {
        "id": "twzT6ZG_b42r"
      },
      "execution_count": null,
      "outputs": []
    },
    {
      "cell_type": "code",
      "source": [
        "# Function to check data types and missing values\n",
        "def check_data(df):\n",
        "    print(\"Data Types:\")\n",
        "    print(df.dtypes)\n",
        "    print(\"\\nMissing Values:\")\n",
        "    print(df.isnull().sum())\n",
        "    print(\"\\nPercentage of Missing Values:\")\n",
        "    print((df.isnull().sum() / len(df)) * 100)"
      ],
      "metadata": {
        "id": "JVBAr84McDYD"
      },
      "execution_count": null,
      "outputs": []
    },
    {
      "cell_type": "code",
      "source": [
        "print(\"Meal Preferences DataFrame:\")\n",
        "check_data(df1)\n",
        "\n",
        "print(\"\\nMorning Routine DataFrame:\")\n",
        "check_data(df2)\n",
        "\n",
        "print(\"\\nCommute Patterns DataFrame:\")\n",
        "check_data(df3)\n",
        "\n",
        "print(\"\\nStudy Habits DataFrame:\")\n",
        "check_data(df4)"
      ],
      "metadata": {
        "colab": {
          "base_uri": "https://localhost:8080/"
        },
        "collapsed": true,
        "id": "0P2EMP9ucLB0",
        "outputId": "35938f20-aeba-45f2-ea2e-ccb9f2731b92"
      },
      "execution_count": null,
      "outputs": [
        {
          "output_type": "stream",
          "name": "stdout",
          "text": [
            "Meal Preferences DataFrame:\n",
            "Data Types:\n",
            "Date                        datetime64[ns]\n",
            "Time of Meal                        object\n",
            "Type of Meal                        object\n",
            "Main Dish                           object\n",
            "Side Dish(es)                       object\n",
            "Beverage                            object\n",
            "Calories Consumed (kcal)           float64\n",
            "Healthiness Rating                  object\n",
            "Satisfaction Level                  object\n",
            "Mood Before Meal                    object\n",
            "Mood After Meal                     object\n",
            "Location of Meal                    object\n",
            "Reason for Meal Choice              object\n",
            "Company During Meal                 object\n",
            "dtype: object\n",
            "\n",
            "Missing Values:\n",
            "Date                         0\n",
            "Time of Meal                 0\n",
            "Type of Meal                 0\n",
            "Main Dish                    0\n",
            "Side Dish(es)               21\n",
            "Beverage                    27\n",
            "Calories Consumed (kcal)    36\n",
            "Healthiness Rating           0\n",
            "Satisfaction Level           0\n",
            "Mood Before Meal             0\n",
            "Mood After Meal              0\n",
            "Location of Meal             0\n",
            "Reason for Meal Choice       0\n",
            "Company During Meal          0\n",
            "dtype: int64\n",
            "\n",
            "Percentage of Missing Values:\n",
            "Date                         0.000000\n",
            "Time of Meal                 0.000000\n",
            "Type of Meal                 0.000000\n",
            "Main Dish                    0.000000\n",
            "Side Dish(es)               18.918919\n",
            "Beverage                    24.324324\n",
            "Calories Consumed (kcal)    32.432432\n",
            "Healthiness Rating           0.000000\n",
            "Satisfaction Level           0.000000\n",
            "Mood Before Meal             0.000000\n",
            "Mood After Meal              0.000000\n",
            "Location of Meal             0.000000\n",
            "Reason for Meal Choice       0.000000\n",
            "Company During Meal          0.000000\n",
            "dtype: float64\n",
            "\n",
            "Morning Routine DataFrame:\n",
            "Data Types:\n",
            "Date                                datetime64[ns]\n",
            "Time Woken Up                               object\n",
            "First Activity                              object\n",
            "Duration of First Activity (min)            object\n",
            "Time Started Breakfast                      object\n",
            "Type of Breakfast                           object\n",
            "Calories Consumed (kcal)                   float64\n",
            "Healthiness Rating                          object\n",
            "Exercise Performed                          object\n",
            "Type of Exercise                            object\n",
            "Duration of Exercise (min)                  object\n",
            "Time Started Work/Study                     object\n",
            "Mood After Morning Routine                  object\n",
            "Weather                                     object\n",
            "Time Spent Preparing (min)                  object\n",
            "Time Left Home                              object\n",
            "dtype: object\n",
            "\n",
            "Missing Values:\n",
            "Date                                 0\n",
            "Time Woken Up                        0\n",
            "First Activity                       0\n",
            "Duration of First Activity (min)     0\n",
            "Time Started Breakfast               3\n",
            "Type of Breakfast                    3\n",
            "Calories Consumed (kcal)             7\n",
            "Healthiness Rating                   3\n",
            "Exercise Performed                   0\n",
            "Type of Exercise                    49\n",
            "Duration of Exercise (min)           1\n",
            "Time Started Work/Study             22\n",
            "Mood After Morning Routine           0\n",
            "Weather                              0\n",
            "Time Spent Preparing (min)           0\n",
            "Time Left Home                       9\n",
            "dtype: int64\n",
            "\n",
            "Percentage of Missing Values:\n",
            "Date                                 0.00\n",
            "Time Woken Up                        0.00\n",
            "First Activity                       0.00\n",
            "Duration of First Activity (min)     0.00\n",
            "Time Started Breakfast               3.75\n",
            "Type of Breakfast                    3.75\n",
            "Calories Consumed (kcal)             8.75\n",
            "Healthiness Rating                   3.75\n",
            "Exercise Performed                   0.00\n",
            "Type of Exercise                    61.25\n",
            "Duration of Exercise (min)           1.25\n",
            "Time Started Work/Study             27.50\n",
            "Mood After Morning Routine           0.00\n",
            "Weather                              0.00\n",
            "Time Spent Preparing (min)           0.00\n",
            "Time Left Home                      11.25\n",
            "dtype: float64\n",
            "\n",
            "Commute Patterns DataFrame:\n",
            "Data Types:\n",
            "Date                           datetime64[ns]\n",
            "Mode of Transportation                 object\n",
            "Departure Time (am)                    object\n",
            "Arrival Time (am)                      object\n",
            "Duration (min)                         object\n",
            "Distance Covered (KM)                   int64\n",
            "Route Taken                            object\n",
            "Traffic Condition                      object\n",
            "Weather                                object\n",
            "Delays Encountered                     object\n",
            "Stress Level During Commute            object\n",
            "Company During Commute                 object\n",
            "Reason for Commute                     object\n",
            "Commute Start Location                 object\n",
            "Commute End Location                   object\n",
            "dtype: object\n",
            "\n",
            "Missing Values:\n",
            "Date                            0\n",
            "Mode of Transportation          0\n",
            "Departure Time (am)             0\n",
            "Arrival Time (am)               0\n",
            "Duration (min)                  0\n",
            "Distance Covered (KM)           0\n",
            "Route Taken                     0\n",
            "Traffic Condition               0\n",
            "Weather                         0\n",
            "Delays Encountered             13\n",
            "Stress Level During Commute     0\n",
            "Company During Commute          0\n",
            "Reason for Commute              0\n",
            "Commute Start Location          0\n",
            "Commute End Location            0\n",
            "dtype: int64\n",
            "\n",
            "Percentage of Missing Values:\n",
            "Date                            0.000000\n",
            "Mode of Transportation          0.000000\n",
            "Departure Time (am)             0.000000\n",
            "Arrival Time (am)               0.000000\n",
            "Duration (min)                  0.000000\n",
            "Distance Covered (KM)           0.000000\n",
            "Route Taken                     0.000000\n",
            "Traffic Condition               0.000000\n",
            "Weather                         0.000000\n",
            "Delays Encountered             18.309859\n",
            "Stress Level During Commute     0.000000\n",
            "Company During Commute          0.000000\n",
            "Reason for Commute              0.000000\n",
            "Commute Start Location          0.000000\n",
            "Commute End Location            0.000000\n",
            "dtype: float64\n",
            "\n",
            "Study Habits DataFrame:\n",
            "Data Types:\n",
            "Date                        datetime64[ns]\n",
            "Start Time                          object\n",
            "End Time                            object\n",
            "Duration (min)                      object\n",
            "Subject                             object\n",
            "Type of Study Material              object\n",
            "Study Location                      object\n",
            "Productivity Level                  object\n",
            "Number of Breaks                     int64\n",
            "Duration of Breaks (min)            object\n",
            "Distractions                        object\n",
            "Tools/Resources Used                object\n",
            "Mood Before Study                   object\n",
            "Mood After Study                    object\n",
            "Goal                                object\n",
            "Achievement                         object\n",
            "dtype: object\n",
            "\n",
            "Missing Values:\n",
            "Date                         0\n",
            "Start Time                   0\n",
            "End Time                     0\n",
            "Duration (min)               0\n",
            "Subject                      0\n",
            "Type of Study Material       0\n",
            "Study Location               0\n",
            "Productivity Level           0\n",
            "Number of Breaks             0\n",
            "Duration of Breaks (min)     0\n",
            "Distractions                16\n",
            "Tools/Resources Used         0\n",
            "Mood Before Study            0\n",
            "Mood After Study             1\n",
            "Goal                         0\n",
            "Achievement                  0\n",
            "dtype: int64\n",
            "\n",
            "Percentage of Missing Values:\n",
            "Date                         0.000000\n",
            "Start Time                   0.000000\n",
            "End Time                     0.000000\n",
            "Duration (min)               0.000000\n",
            "Subject                      0.000000\n",
            "Type of Study Material       0.000000\n",
            "Study Location               0.000000\n",
            "Productivity Level           0.000000\n",
            "Number of Breaks             0.000000\n",
            "Duration of Breaks (min)     0.000000\n",
            "Distractions                21.621622\n",
            "Tools/Resources Used         0.000000\n",
            "Mood Before Study            0.000000\n",
            "Mood After Study             1.351351\n",
            "Goal                         0.000000\n",
            "Achievement                  0.000000\n",
            "dtype: float64\n"
          ]
        }
      ]
    },
    {
      "cell_type": "code",
      "source": [
        "# Fill missing values in the 'Side Dish(es)' column\n",
        "df1['Side Dish(es)'] = df1['Side Dish(es)'].fillna('No Side Dish')  # Fill missing side dishes\n",
        "\n",
        "# Fill missing values in the 'Beverage' column\n",
        "df1['Beverage'] = df1['Beverage'].fillna('No Beverage')  # Fill missing beverages\n",
        "\n",
        "# Fill missing values in 'Calories Consumed (kcal)' with the mean\n",
        "df1['Calories Consumed (kcal)'] = df1['Calories Consumed (kcal)'].fillna(df1['Calories Consumed (kcal)'].mean())\n",
        "\n",
        "print(\"\\nAfter filling missing values in Meal Preferences DataFrame:\")\n",
        "check_data(df1)"
      ],
      "metadata": {
        "colab": {
          "base_uri": "https://localhost:8080/"
        },
        "id": "bBvql8xMfJcd",
        "outputId": "d61f5ad7-56fe-42b4-e489-b1c68965d42b"
      },
      "execution_count": null,
      "outputs": [
        {
          "output_type": "stream",
          "name": "stdout",
          "text": [
            "\n",
            "After filling missing values in Meal Preferences DataFrame:\n",
            "Data Types:\n",
            "Date                        datetime64[ns]\n",
            "Time of Meal                        object\n",
            "Type of Meal                        object\n",
            "Main Dish                           object\n",
            "Side Dish(es)                       object\n",
            "Beverage                            object\n",
            "Calories Consumed (kcal)           float64\n",
            "Healthiness Rating                  object\n",
            "Satisfaction Level                  object\n",
            "Mood Before Meal                    object\n",
            "Mood After Meal                     object\n",
            "Location of Meal                    object\n",
            "Reason for Meal Choice              object\n",
            "Company During Meal                 object\n",
            "dtype: object\n",
            "\n",
            "Missing Values:\n",
            "Date                        0\n",
            "Time of Meal                0\n",
            "Type of Meal                0\n",
            "Main Dish                   0\n",
            "Side Dish(es)               0\n",
            "Beverage                    0\n",
            "Calories Consumed (kcal)    0\n",
            "Healthiness Rating          0\n",
            "Satisfaction Level          0\n",
            "Mood Before Meal            0\n",
            "Mood After Meal             0\n",
            "Location of Meal            0\n",
            "Reason for Meal Choice      0\n",
            "Company During Meal         0\n",
            "dtype: int64\n",
            "\n",
            "Percentage of Missing Values:\n",
            "Date                        0.0\n",
            "Time of Meal                0.0\n",
            "Type of Meal                0.0\n",
            "Main Dish                   0.0\n",
            "Side Dish(es)               0.0\n",
            "Beverage                    0.0\n",
            "Calories Consumed (kcal)    0.0\n",
            "Healthiness Rating          0.0\n",
            "Satisfaction Level          0.0\n",
            "Mood Before Meal            0.0\n",
            "Mood After Meal             0.0\n",
            "Location of Meal            0.0\n",
            "Reason for Meal Choice      0.0\n",
            "Company During Meal         0.0\n",
            "dtype: float64\n"
          ]
        }
      ]
    },
    {
      "cell_type": "code",
      "source": [
        "clean_df1 = df1.copy()"
      ],
      "metadata": {
        "id": "dj0lksl4GwAL"
      },
      "execution_count": null,
      "outputs": []
    },
    {
      "cell_type": "code",
      "source": [
        "def convert_to_minutes(duration):\n",
        "    if isinstance(duration, str):\n",
        "        # Normalize the string by removing spaces and converting to lowercase\n",
        "        duration = duration.strip().lower()\n",
        "\n",
        "        # Extract digits from the string\n",
        "        match = re.findall(r'\\d+', duration)  # Finds all digit sequences in the string\n",
        "        if match:\n",
        "            number = int(match[0])  # Take the first found number\n",
        "            if 'hour' in duration:\n",
        "                return number * 60  # Convert hours to minutes\n",
        "            elif 'min' in duration or 'minute' in duration:\n",
        "                return number  # Already in minutes\n",
        "            elif duration == 'all night':\n",
        "                return 480  # Assuming 'All night' is 8 hours\n",
        "        else:\n",
        "            # Handle specific cases like '5mins'\n",
        "            match = re.findall(r'\\d+', duration.replace('mins', ''))\n",
        "            if match:\n",
        "                return int(match[0])  # Extract and return as minutes\n",
        "\n",
        "    elif isinstance(duration, (int, float)):\n",
        "        return int(duration)  # Return as-is if it's already a number\n",
        "    return None  # For non-convertible formats"
      ],
      "metadata": {
        "id": "SjpRi9opyE0B"
      },
      "execution_count": null,
      "outputs": []
    },
    {
      "cell_type": "code",
      "source": [
        "# Print the first 5 rows of df2\n",
        "print(df2.head())\n"
      ],
      "metadata": {
        "colab": {
          "base_uri": "https://localhost:8080/"
        },
        "id": "4T2u92iKdc0l",
        "outputId": "58c87022-f87c-40d5-d17e-7762ebb09858"
      },
      "execution_count": null,
      "outputs": [
        {
          "output_type": "stream",
          "name": "stdout",
          "text": [
            "        Date Time Woken Up First Activity Duration of First Activity (min)  \\\n",
            "0 2024-08-12      06:00:00        Bathing                               20   \n",
            "1 2024-08-13      06:15:00       Bathing                                20   \n",
            "2 2024-08-14      06:05:00        Bathing                               15   \n",
            "3 2024-08-15      06:15:00        Bathing                               19   \n",
            "4 2024-08-16      06:03:00        Bathing                               15   \n",
            "\n",
            "  Time Started Breakfast Type of Breakfast  Calories Consumed (kcal)  \\\n",
            "0               07:55:00          Fakcakes                     200.0   \n",
            "1               06:45:00            Cereal                     250.0   \n",
            "2               06:35:00  Left over dinner                       NaN   \n",
            "3               06:30:00            Cereal                     200.0   \n",
            "4               06:40:00  Left over dinner                       NaN   \n",
            "\n",
            "  Healthiness Rating Exercise Performed Type of Exercise  \\\n",
            "0            Healthy                 No              NaN   \n",
            "1            Healthy                 No              NaN   \n",
            "2            Healthy                 No              NaN   \n",
            "3            healthy                 No              NaN   \n",
            "4            Healthy                 No              NaN   \n",
            "\n",
            "  Duration of Exercise (min) Time Started Work/Study  \\\n",
            "0                          0                     NaN   \n",
            "1                          0                     NaN   \n",
            "2                          0                     NaN   \n",
            "3                          0                     NaN   \n",
            "4                          0                     NaN   \n",
            "\n",
            "  Mood After Morning Routine Weather Time Spent Preparing (min) Time Left Home  \n",
            "0                      Tired   Sunny                         75       07:15:00  \n",
            "1                      Tired   sunny                        112       07:27:00  \n",
            "2                    Neutral   Sunny                        109       07:14:00  \n",
            "3                      Tired  Cloudy                         40       07:10:00  \n",
            "4                  Energized   Sunny                         62       07:05:00  \n"
          ]
        }
      ]
    },
    {
      "cell_type": "code",
      "source": [
        "\n",
        "print(df2['Healthiness Rating'].unique())\n"
      ],
      "metadata": {
        "colab": {
          "base_uri": "https://localhost:8080/"
        },
        "id": "ite6B-eUaSg-",
        "outputId": "4ffdb0bd-f599-4b40-dcc2-f86be0e1cde7"
      },
      "execution_count": null,
      "outputs": [
        {
          "output_type": "stream",
          "name": "stdout",
          "text": [
            "['Healthy' 'healthy' nan 'Moderately healthy' 'Moderate'\n",
            " 'Moderately Healthy' 'Unhealthy']\n"
          ]
        }
      ]
    },
    {
      "cell_type": "code",
      "source": [
        "# Step 1: Normalize the case (convert everything to lowercase)\n",
        "df2['Healthiness Rating'] = df2['Healthiness Rating'].str.lower()\n",
        "\n",
        "# Step 2: Define the mapping (treat 'healthy' and 'Moderately Healthy' as the same category)\n",
        "rating_mapping = {\n",
        "    'healthy': 1,\n",
        "    'moderately healthy': 2,\n",
        "    'unhealthy': 3\n",
        "}\n",
        "\n",
        "# Apply the mapping to the column\n",
        "df2['Healthiness Rating'] = df2['Healthiness Rating'].map(rating_mapping)\n",
        "\n",
        "# Step 3: Check for any missing values in the column after mapping\n",
        "missing_values = df2['Healthiness Rating'].isnull().sum()\n",
        "print(f\"Missing values in 'Healthiness Rating' after cleaning and mapping: {missing_values}\")\n",
        "\n",
        "# Optional: If missing values are found, fill them with a default value (like the mean or a placeholder)\n",
        "df2['Healthiness Rating'] = df2['Healthiness Rating'].fillna(df2['Healthiness Rating'].mean())\n",
        "\n",
        "# Final check for missing values in the whole dataframe\n",
        "missing_values_overall = df2.isnull().sum()\n",
        "print(\"\\nMissing values in the entire DataFrame after cleaning:\")\n",
        "print(missing_values_overall[missing_values_overall > 0])\n"
      ],
      "metadata": {
        "colab": {
          "base_uri": "https://localhost:8080/"
        },
        "id": "c7vOlqwbbvfN",
        "outputId": "7b7dd162-776b-4eb2-b215-d7d3f02b4b10"
      },
      "execution_count": null,
      "outputs": [
        {
          "output_type": "stream",
          "name": "stdout",
          "text": [
            "Missing values in 'Healthiness Rating' after cleaning and mapping: 8\n",
            "\n",
            "Missing values in the entire DataFrame after cleaning:\n",
            "Time Started Breakfast         3\n",
            "Type of Breakfast              3\n",
            "Calories Consumed (kcal)       7\n",
            "Type of Exercise              49\n",
            "Duration of Exercise (min)     1\n",
            "Time Started Work/Study       22\n",
            "Time Left Home                 9\n",
            "dtype: int64\n"
          ]
        }
      ]
    },
    {
      "cell_type": "code",
      "source": [
        "# Fill missing values with the mean of the column\n",
        "df2['Healthiness Rating'] = df2['Healthiness Rating'].fillna(df2['Healthiness Rating'].mode())\n",
        "\n",
        "# Final check for missing values in the whole dataframe\n",
        "missing_values_overall = df2.isnull().sum()\n",
        "print(\"\\nMissing values in the entire DataFrame after cleaning:\")\n",
        "print(missing_values_overall[missing_values_overall > 0])\n"
      ],
      "metadata": {
        "colab": {
          "base_uri": "https://localhost:8080/"
        },
        "id": "tUERgsGIeBI4",
        "outputId": "ea7e9cb9-624a-4289-a73d-eef3db3a8360"
      },
      "execution_count": null,
      "outputs": [
        {
          "output_type": "stream",
          "name": "stdout",
          "text": [
            "\n",
            "Missing values in the entire DataFrame after cleaning:\n",
            "Time Started Breakfast         3\n",
            "Type of Breakfast              3\n",
            "Calories Consumed (kcal)       7\n",
            "Type of Exercise              49\n",
            "Duration of Exercise (min)     1\n",
            "Time Started Work/Study       22\n",
            "Time Left Home                 9\n",
            "dtype: int64\n"
          ]
        }
      ]
    },
    {
      "cell_type": "code",
      "source": [
        "# Convert 'Duration of Exercise (min)' to numeric, forcing errors to NaN\n",
        "df2['Duration of Exercise (min)'] = pd.to_numeric(df2['Duration of Exercise (min)'], errors='coerce')\n",
        "\n",
        "# Check for NaN values after conversion\n",
        "print(\"\\nMissing values in 'Duration of Exercise (min)' after conversion:\")\n",
        "print(df2['Duration of Exercise (min)'].isnull().sum())\n",
        "\n",
        "# Now, fill missing values with the mean\n",
        "df2['Duration of Exercise (min)'] = df2['Duration of Exercise (min)'].fillna(df2['Duration of Exercise (min)'].mean())\n",
        "\n",
        "df2['Time Started Breakfast'] = df2['Time Started Breakfast'].fillna('Unknown')\n",
        "df2['Type of Breakfast'] = df2['Type of Breakfast'].fillna('Unknown')\n",
        "\n",
        "# Fill missing values in 'Time Started Work/Study' with a placeholder\n",
        "df2['Time Started Work/Study'] = df2['Time Started Work/Study'].fillna('Unknown')\n",
        "\n",
        "# Fill missing values in 'Time Left Home' with a placeholder or the mean\n",
        "df2['Time Left Home'] = df2['Time Left Home'].fillna('Unknown')  # or use mean if applicable\n",
        "\n",
        "missing_values_df2 = df2.isnull().sum()\n",
        "print(\"\\nMissing values in Morning Routine DataFrame after cleaning:\")\n",
        "print(missing_values_df2[missing_values_df2 > 0])\n",
        "\n",
        "# If no missing values, copy the cleaned DataFrame\n",
        "if missing_values_df2.sum() == 0:\n",
        "    clean_df2 = df2.copy()\n",
        "    print(\"\\nMorning Routine DataFrame cleaned and copied successfully.\")\n",
        "else:\n",
        "    print(\"\\nThere are still missing values in Morning Routine DataFrame.\")\n"
      ],
      "metadata": {
        "colab": {
          "base_uri": "https://localhost:8080/"
        },
        "id": "pox2XXRifbAE",
        "outputId": "44df2531-3f63-49eb-9db7-875083ba3347"
      },
      "execution_count": null,
      "outputs": [
        {
          "output_type": "stream",
          "name": "stdout",
          "text": [
            "\n",
            "Missing values in 'Duration of Exercise (min)' after conversion:\n",
            "13\n",
            "\n",
            "Missing values in Morning Routine DataFrame after cleaning:\n",
            "Calories Consumed (kcal)     7\n",
            "Type of Exercise            49\n",
            "dtype: int64\n",
            "\n",
            "There are still missing values in Morning Routine DataFrame.\n"
          ]
        }
      ]
    },
    {
      "cell_type": "code",
      "source": [
        "# Convert 'Duration of Exercise (min)' to numeric, forcing errors to NaN\n",
        "df2['Duration of Exercise (min)'] = pd.to_numeric(df2['Duration of Exercise (min)'], errors='coerce')\n",
        "\n",
        "# Check for NaN values after conversion\n",
        "print(\"\\nMissing values in 'Duration of Exercise (min)' after conversion:\")\n",
        "print(df2['Duration of Exercise (min)'].isnull().sum())\n",
        "\n",
        "# Fill missing values in 'Duration of Exercise (min)' with the mean\n",
        "df2['Duration of Exercise (min)'] = df2['Duration of Exercise (min)'].fillna(df2['Duration of Exercise (min)'].mean())\n",
        "\n",
        "# Fill missing values in other columns\n",
        "df2['Time Started Breakfast'] = df2['Time Started Breakfast'].fillna('Unknown')\n",
        "df2['Type of Breakfast'] = df2['Type of Breakfast'].fillna('Unknown')\n",
        "df2['Time Started Work/Study'] = df2['Time Started Work/Study'].fillna('Unknown')\n",
        "df2['Time Left Home'] = df2['Time Left Home'].fillna('Unknown')\n",
        "\n",
        "# Fill missing values in 'Calories Consumed (kcal)' with the mean\n",
        "df2['Calories Consumed (kcal)'] = df2['Calories Consumed (kcal)'].fillna(df2['Calories Consumed (kcal)'].mean())\n",
        "\n",
        "# Fill missing values in 'Type of Exercise' with a placeholder\n",
        "df2['Type of Exercise'] = df2['Type of Exercise'].fillna('Unknown')\n",
        "\n",
        "# Check for remaining missing values\n",
        "missing_values_df2 = df2.isnull().sum()\n",
        "print(\"\\nMissing values in Morning Routine DataFrame after cleaning:\")\n",
        "print(missing_values_df2[missing_values_df2 > 0])\n",
        "\n",
        "if missing_values_df2.sum() == 0:\n",
        "    clean_df2 = df2.copy()\n",
        "    print(\"\\nMorning Routine DataFrame cleaned and copied successfully.\")\n",
        "else:\n",
        "    print(\"\\nThere are still missing values in Morning Routine DataFrame\")\n",
        "\n"
      ],
      "metadata": {
        "colab": {
          "base_uri": "https://localhost:8080/"
        },
        "id": "wDAs48beWmHV",
        "outputId": "bd0be9bb-3b1a-479f-b929-a89aa270db59"
      },
      "execution_count": null,
      "outputs": [
        {
          "output_type": "stream",
          "name": "stdout",
          "text": [
            "\n",
            "Missing values in 'Duration of Exercise (min)' after conversion:\n",
            "0\n",
            "\n",
            "Missing values in Morning Routine DataFrame after cleaning:\n",
            "Series([], dtype: int64)\n",
            "\n",
            "Morning Routine DataFrame cleaned and copied successfully.\n"
          ]
        }
      ]
    },
    {
      "cell_type": "code",
      "source": [
        "print(df3['Stress Level During Commute'].unique())\n"
      ],
      "metadata": {
        "colab": {
          "base_uri": "https://localhost:8080/"
        },
        "id": "r7WYfZ5K0HSp",
        "outputId": "75a5576d-ac2d-4456-d75a-0c337a447ab8"
      },
      "execution_count": null,
      "outputs": [
        {
          "output_type": "stream",
          "name": "stdout",
          "text": [
            "['high' 'Low' 'medium' 'Moderate' 'High']\n"
          ]
        }
      ]
    },
    {
      "cell_type": "code",
      "source": [
        "def clean_stress_level(stress):\n",
        "    if isinstance(stress, str):\n",
        "        stress = stress.strip().lower()  # Normalize to lowercase\n",
        "        if stress in ['low', 'medium', 'high']:\n",
        "            return stress.capitalize()  # Return in title case (e.g., 'Low', 'Medium', 'High')\n",
        "    return pd.NA  # Return NA for non-recognized strings\n"
      ],
      "metadata": {
        "id": "wb-_u9MYg9ud"
      },
      "execution_count": null,
      "outputs": []
    },
    {
      "cell_type": "code",
      "source": [
        "# Apply the function to the 'Stress Level During Commute' column\n",
        "df3['Stress Level During Commute'] = df3['Stress Level During Commute'].apply(clean_stress_level)\n",
        "\n",
        "# Check unique values after cleaning\n",
        "unique_stress_levels_cleaned = df3['Stress Level During Commute'].unique()\n",
        "print(unique_stress_levels_cleaned)"
      ],
      "metadata": {
        "colab": {
          "base_uri": "https://localhost:8080/"
        },
        "id": "03dKVLLSio7t",
        "outputId": "93583009-7b7d-4686-d234-0873f1328401"
      },
      "execution_count": null,
      "outputs": [
        {
          "output_type": "stream",
          "name": "stdout",
          "text": [
            "['High' 'Low' 'Medium' <NA>]\n"
          ]
        }
      ]
    },
    {
      "cell_type": "code",
      "source": [
        "# Fill missing values for 'Delays Encountered' with 0\n",
        "df3['Delays Encountered'] = df3['Delays Encountered'].fillna(0)\n",
        "\n",
        "# Fill missing values for 'Stress Level During Commute' with the mode\n",
        "stress_mode = df3['Stress Level During Commute'].mode()[0]  # Get the most common value\n",
        "df3['Stress Level During Commute'] = df3['Stress Level During Commute'].fillna(stress_mode)\n",
        "\n",
        "# Check for missing values again\n",
        "print(\"\\nMissing Values in df3 (Commute Patterns) after filling:\")\n",
        "print(df3.isnull().sum())\n",
        "\n"
      ],
      "metadata": {
        "colab": {
          "base_uri": "https://localhost:8080/"
        },
        "id": "ddPi76hm2qFl",
        "outputId": "9d81c9ea-da30-4b0e-f665-c398fe34650f"
      },
      "execution_count": null,
      "outputs": [
        {
          "output_type": "stream",
          "name": "stdout",
          "text": [
            "\n",
            "Missing Values in df3 (Commute Patterns) after filling:\n",
            "Date                           0\n",
            "Mode of Transportation         0\n",
            "Departure Time (am)            0\n",
            "Arrival Time (am)              0\n",
            "Duration (min)                 0\n",
            "Distance Covered (KM)          0\n",
            "Route Taken                    0\n",
            "Traffic Condition              0\n",
            "Weather                        0\n",
            "Delays Encountered             0\n",
            "Stress Level During Commute    0\n",
            "Company During Commute         0\n",
            "Reason for Commute             0\n",
            "Commute Start Location         0\n",
            "Commute End Location           0\n",
            "dtype: int64\n"
          ]
        }
      ]
    },
    {
      "cell_type": "code",
      "source": [
        "clean_df3 = df3.copy()\n",
        "print(\"\\nCommute Patterns DataFrame cleaned and copied successfully.\")\n",
        "\n",
        "print(\"\\nMissing Values in clean_df3 (Commute Patterns):\")\n",
        "print(clean_df3.isnull().sum())"
      ],
      "metadata": {
        "colab": {
          "base_uri": "https://localhost:8080/"
        },
        "id": "gll0_gvaLtap",
        "outputId": "c93f5c6a-f84c-4cf4-c7eb-b7c99e442e01"
      },
      "execution_count": null,
      "outputs": [
        {
          "output_type": "stream",
          "name": "stdout",
          "text": [
            "\n",
            "Commute Patterns DataFrame cleaned and copied successfully.\n",
            "\n",
            "Missing Values in clean_df3 (Commute Patterns):\n",
            "Date                           0\n",
            "Mode of Transportation         0\n",
            "Departure Time (am)            0\n",
            "Arrival Time (am)              0\n",
            "Duration (min)                 0\n",
            "Distance Covered (KM)          0\n",
            "Route Taken                    0\n",
            "Traffic Condition              0\n",
            "Weather                        0\n",
            "Delays Encountered             0\n",
            "Stress Level During Commute    0\n",
            "Company During Commute         0\n",
            "Reason for Commute             0\n",
            "Commute Start Location         0\n",
            "Commute End Location           0\n",
            "dtype: int64\n"
          ]
        }
      ]
    },
    {
      "cell_type": "code",
      "source": [
        "# Check unique values in the 'Duration (min)' column\n",
        "print(df4['Duration (min)'].unique())\n",
        "\n",
        "# Check unique values in the 'Duration of Breaks (min)' column\n",
        "print(df4['Duration of Breaks (min)'].unique())\n"
      ],
      "metadata": {
        "colab": {
          "base_uri": "https://localhost:8080/"
        },
        "id": "DEm3qBIcwPzd",
        "outputId": "007e45e1-5e19-496b-952a-4aa46a162065"
      },
      "execution_count": null,
      "outputs": [
        {
          "output_type": "stream",
          "name": "stdout",
          "text": [
            "['2 hours' '3 hours' '4 hours' '5 hours' 120 90 60 150 'All night' 20 10\n",
            " 45]\n",
            "[15 0 10 30 25 40 20 50 80 60 5 '10 mins']\n"
          ]
        }
      ]
    },
    {
      "cell_type": "code",
      "source": [
        "# Apply the conversion function\n",
        "df4['Duration (min)'] = df4['Duration (min)'].apply(convert_to_minutes)\n",
        "df4['Duration of Breaks (min)'] = df4['Duration of Breaks (min)'].apply(convert_to_minutes)\n",
        "\n",
        "# Convert the Duration (min) column to integer type, handling NaN values\n",
        "df4['Duration (min)'] = df4['Duration (min)'].astype('Int64')  # Using 'Int64' to allow NaN values\n",
        "\n",
        "# Check unique values again\n",
        "print(\"Unique values in 'Duration (min)':\", df4['Duration (min)'].unique())\n",
        "print(\"Unique values in 'Duration of Breaks (min)':\", df4['Duration of Breaks (min)'].unique())\n",
        "\n"
      ],
      "metadata": {
        "colab": {
          "base_uri": "https://localhost:8080/"
        },
        "id": "mZ8r6LDhwm_f",
        "outputId": "8acbb8e8-c769-4f31-a8b5-d19091a3534d"
      },
      "execution_count": null,
      "outputs": [
        {
          "output_type": "stream",
          "name": "stdout",
          "text": [
            "Unique values in 'Duration (min)': <IntegerArray>\n",
            "[120, 180, 240, 300, 90, 60, 150, <NA>, 20, 10, 45]\n",
            "Length: 11, dtype: Int64\n",
            "Unique values in 'Duration of Breaks (min)': [15  0 10 30 25 40 20 50 80 60  5]\n"
          ]
        }
      ]
    },
    {
      "cell_type": "code",
      "source": [
        "print(\"Remaining Missing Values After Conversion:\")\n",
        "print(df4[['Duration (min)', 'Duration of Breaks (min)']].isnull().sum())\n"
      ],
      "metadata": {
        "colab": {
          "base_uri": "https://localhost:8080/"
        },
        "id": "k9appc4zwrab",
        "outputId": "ff77a252-0d55-43d8-b526-961de96eeeb7"
      },
      "execution_count": null,
      "outputs": [
        {
          "output_type": "stream",
          "name": "stdout",
          "text": [
            "Remaining Missing Values After Conversion:\n",
            "Duration (min)              1\n",
            "Duration of Breaks (min)    0\n",
            "dtype: int64\n"
          ]
        }
      ]
    },
    {
      "cell_type": "code",
      "source": [
        "# Check rows with missing values in 'Duration (min)'\n",
        "missing_duration_rows = df4[df4['Duration (min)'].isnull()]\n",
        "print(missing_duration_rows)\n"
      ],
      "metadata": {
        "colab": {
          "base_uri": "https://localhost:8080/"
        },
        "id": "KVIeJgAZ6SJP",
        "outputId": "580c33d9-4815-43d9-fad8-95fb4f5e591c"
      },
      "execution_count": null,
      "outputs": [
        {
          "output_type": "stream",
          "name": "stdout",
          "text": [
            "         Date Start Time  End Time  Duration (min)  Subject  \\\n",
            "20 2024-08-30   22:00 am  06:00:00            <NA>  R, BMAN   \n",
            "\n",
            "   Type of Study Material Study Location Productivity Level  Number of Breaks  \\\n",
            "20         Lecture slides         School             Medium                 3   \n",
            "\n",
            "    Duration of Breaks (min) Distractions Tools/Resources Used  \\\n",
            "20                        60        Noise               Laptop   \n",
            "\n",
            "   Mood Before Study Mood After Study    Goal Achievement  \n",
            "20           Focused        Satisfied  Coding         Yes  \n"
          ]
        }
      ]
    },
    {
      "cell_type": "code",
      "source": [
        "# Fill the missing duration value based on the calculated duration\n",
        "df4.loc[df4['Duration (min)'].isnull(), 'Duration (min)'] = 480\n"
      ],
      "metadata": {
        "id": "SKCeFiJB6dMZ"
      },
      "execution_count": null,
      "outputs": []
    },
    {
      "cell_type": "code",
      "source": [
        "unique_subjects = df4['Subject'].unique()\n",
        "print(unique_subjects)"
      ],
      "metadata": {
        "colab": {
          "base_uri": "https://localhost:8080/"
        },
        "id": "QKmjrEP56qER",
        "outputId": "3dba9e62-8e03-407b-84a3-715064bdfcd9"
      },
      "execution_count": null,
      "outputs": [
        {
          "output_type": "stream",
          "name": "stdout",
          "text": [
            "['business  managemnt' 'r programming ' 'intelligient systems' 'All'\n",
            " 'BMAN' 'IS' 'R' 'R, BMAN' 'Is' 'CSA' 'AWD']\n"
          ]
        }
      ]
    },
    {
      "cell_type": "code",
      "source": [
        "# Define a mapping for common replacements and corrections\n",
        "subject_corrections = {\n",
        "    'business  managemnt': 'Business Management',\n",
        "    'intelligient systems': 'Intelligent Systems',\n",
        "    'r programming ': 'R Programming',\n",
        "    'bman': 'Business Management',\n",
        "    'r': 'R Programming',\n",
        "    'is': 'Intelligent Systems',\n",
        "    'csa': 'C.S.A.',\n",
        "    'awd': 'Advanced Web Development',\n",
        "    'r, bman': 'R Programming, Business Management',\n",
        "    'all': 'All Subjects'\n",
        "}"
      ],
      "metadata": {
        "id": "xZO6RQJ-87z0"
      },
      "execution_count": null,
      "outputs": []
    },
    {
      "cell_type": "code",
      "source": [
        "# Step 1: Convert the Subject column to lowercase\n",
        "df4['Subject'] = df4['Subject'].str.lower()\n",
        "\n",
        "# Step 2: Apply corrections\n",
        "df4['Subject'] = df4['Subject'].replace(subject_corrections)\n",
        "\n",
        "# Step 3: Trim whitespace\n",
        "df4['Subject'] = df4['Subject'].str.strip()\n",
        "\n",
        "# Optional Step 4: Remove unwanted entries or handle them as needed\n",
        "# For example, you can drop rows with None or keep them if you prefer\n",
        "df4 = df4[df4['Subject'].notna()]\n",
        "\n",
        "# Check unique values after standardization\n",
        "unique_subjects_standardized = df4['Subject'].unique()\n",
        "print(unique_subjects_standardized)"
      ],
      "metadata": {
        "colab": {
          "base_uri": "https://localhost:8080/"
        },
        "id": "-IUD85QT8wDz",
        "outputId": "69981c29-cc3f-41c1-842a-f70fcece7214"
      },
      "execution_count": null,
      "outputs": [
        {
          "output_type": "stream",
          "name": "stdout",
          "text": [
            "['Business Management' 'R Programming' 'Intelligent Systems'\n",
            " 'All Subjects' 'R Programming, Business Management' 'C.S.A.'\n",
            " 'Advanced Web Development']\n"
          ]
        }
      ]
    },
    {
      "cell_type": "code",
      "source": [
        "# Normalize the Subject column: lower case and strip whitespace\n",
        "df4['Subject'] = df4['Subject'].str.lower().str.strip()\n",
        "\n",
        "# Apply corrections to the Subject column\n",
        "df4['Subject'] = df4['Subject'].replace(subject_corrections)\n",
        "\n",
        "# Remove duplicates and get unique values\n",
        "unique_subjects_standardized = df4['Subject'].unique()\n",
        "\n",
        "# Convert back to a DataFrame to show unique values\n",
        "unique_subjects_df = pd.DataFrame(unique_subjects_standardized, columns=['Unique Subjects'])\n",
        "\n",
        "# Print the DataFrame of unique subjects\n",
        "print(unique_subjects_df)"
      ],
      "metadata": {
        "colab": {
          "base_uri": "https://localhost:8080/"
        },
        "id": "hRVBdcGa-3Zq",
        "outputId": "47332973-a4ba-4b1f-c353-262e929c0e33"
      },
      "execution_count": null,
      "outputs": [
        {
          "output_type": "stream",
          "name": "stdout",
          "text": [
            "                      Unique Subjects\n",
            "0                 business management\n",
            "1                       r programming\n",
            "2                 intelligent systems\n",
            "3                        all subjects\n",
            "4  r programming, business management\n",
            "5                              c.s.a.\n",
            "6            advanced web development\n"
          ]
        }
      ]
    },
    {
      "cell_type": "code",
      "source": [
        "print(\"\\nMissing Values in df4 (Study Habits) after filling:\")\n",
        "print(df4.isnull().sum())\n",
        "\n",
        "# If there are still missing values, you can print a message or handle them accordingly.\n",
        "if df4.isnull().sum().sum() == 0:\n",
        "    # Create a cleaned copy if no missing values are left\n",
        "    clean_df4 = df4.copy()\n",
        "    print(\"\\nStudy Habits DataFrame cleaned and copied successfully.\")\n",
        "else:\n",
        "    print(\"\\nThere are still missing values in Study Habits DataFrame.\")"
      ],
      "metadata": {
        "colab": {
          "base_uri": "https://localhost:8080/"
        },
        "id": "4LNsen2tMFQV",
        "outputId": "2477256b-574d-4311-d22b-025eda5ce626"
      },
      "execution_count": null,
      "outputs": [
        {
          "output_type": "stream",
          "name": "stdout",
          "text": [
            "\n",
            "Missing Values in df4 (Study Habits) after filling:\n",
            "Date                         0\n",
            "Start Time                   0\n",
            "End Time                     0\n",
            "Duration (min)               0\n",
            "Subject                      0\n",
            "Type of Study Material       0\n",
            "Study Location               0\n",
            "Productivity Level           0\n",
            "Number of Breaks             0\n",
            "Duration of Breaks (min)     0\n",
            "Distractions                16\n",
            "Tools/Resources Used         0\n",
            "Mood Before Study            0\n",
            "Mood After Study             1\n",
            "Goal                         0\n",
            "Achievement                  0\n",
            "dtype: int64\n",
            "\n",
            "There are still missing values in Study Habits DataFrame.\n"
          ]
        }
      ]
    },
    {
      "cell_type": "code",
      "source": [
        "df4['Distractions'] = df4['Distractions'].fillna('None')\n",
        "\n",
        "# Fill missing values for Mood After Study with a placeholder\n",
        "df4['Mood After Study'] = df4['Mood After Study'].fillna('Not Specified')\n",
        "print(\"\\nMissing Values in df4 (Study Habits) after filling:\")\n",
        "print(df4.isnull().sum())\n",
        "\n",
        "if df4.isnull().sum().sum() == 0:\n",
        "    # Create a cleaned copy if no missing values are left\n",
        "    clean_df4 = df4.copy()\n",
        "    print(\"\\nStudy Habits DataFrame cleaned and copied successfully.\")\n",
        "else:\n",
        "    print(\"\\nThere are still missing values in Study Habits DataFrame.\")"
      ],
      "metadata": {
        "colab": {
          "base_uri": "https://localhost:8080/"
        },
        "id": "-6VAP7uFMjNq",
        "outputId": "0a20e294-94ce-401c-e28d-1d4ab4ad0db4"
      },
      "execution_count": null,
      "outputs": [
        {
          "output_type": "stream",
          "name": "stdout",
          "text": [
            "\n",
            "Missing Values in df4 (Study Habits) after filling:\n",
            "Date                        0\n",
            "Start Time                  0\n",
            "End Time                    0\n",
            "Duration (min)              0\n",
            "Subject                     0\n",
            "Type of Study Material      0\n",
            "Study Location              0\n",
            "Productivity Level          0\n",
            "Number of Breaks            0\n",
            "Duration of Breaks (min)    0\n",
            "Distractions                0\n",
            "Tools/Resources Used        0\n",
            "Mood Before Study           0\n",
            "Mood After Study            0\n",
            "Goal                        0\n",
            "Achievement                 0\n",
            "dtype: int64\n",
            "\n",
            "Study Habits DataFrame cleaned and copied successfully.\n"
          ]
        }
      ]
    },
    {
      "cell_type": "code",
      "source": [
        "# Check for missing values in each cleaned DataFrame\n",
        "missing_values_df1 = clean_df1.isnull().sum()\n",
        "missing_values_df2 = clean_df2.isnull().sum()\n",
        "missing_values_df3 = clean_df3.isnull().sum()\n",
        "missing_values_df4 = clean_df4.isnull().sum()\n",
        "\n",
        "# Print missing values for each DataFrame\n",
        "print(\"Missing Values in Cleaned Meal Preferences DataFrame (df1):\")\n",
        "print(missing_values_df1[missing_values_df1 > 0])\n",
        "\n",
        "print(\"\\nMissing Values in Cleaned Morning Routine DataFrame (df2):\")\n",
        "print(missing_values_df2[missing_values_df2 > 0])\n",
        "\n",
        "print(\"\\nMissing Values in Cleaned Commute Patterns DataFrame (df3):\")\n",
        "print(missing_values_df3[missing_values_df3 > 0])\n",
        "\n",
        "print(\"\\nMissing Values in Cleaned Study Habits DataFrame (df4):\")\n",
        "print(missing_values_df4[missing_values_df4 > 0])\n"
      ],
      "metadata": {
        "colab": {
          "base_uri": "https://localhost:8080/"
        },
        "id": "HsDBx69rO6F_",
        "outputId": "e11c7d94-6580-4e22-9eb2-4234361a1ab7"
      },
      "execution_count": null,
      "outputs": [
        {
          "output_type": "stream",
          "name": "stdout",
          "text": [
            "Missing Values in Cleaned Meal Preferences DataFrame (df1):\n",
            "Series([], dtype: int64)\n",
            "\n",
            "Missing Values in Cleaned Morning Routine DataFrame (df2):\n",
            "Series([], dtype: int64)\n",
            "\n",
            "Missing Values in Cleaned Commute Patterns DataFrame (df3):\n",
            "Series([], dtype: int64)\n",
            "\n",
            "Missing Values in Cleaned Study Habits DataFrame (df4):\n",
            "Series([], dtype: int64)\n"
          ]
        }
      ]
    },
    {
      "cell_type": "code",
      "source": [
        "# Print column names for each cleaned DataFrame\n",
        "print(\"Column names in Cleaned Meal Preferences DataFrame (df1):\")\n",
        "print(clean_df1.columns.tolist())\n",
        "\n",
        "print(\"\\nColumn names in Cleaned Morning Routine DataFrame (df2):\")\n",
        "print(clean_df2.columns.tolist())\n",
        "\n",
        "print(\"\\nColumn names in Cleaned Commute Patterns DataFrame (df3):\")\n",
        "print(clean_df3.columns.tolist())\n",
        "\n",
        "print(\"\\nColumn names in Cleaned Study Habits DataFrame (df4):\")\n",
        "print(clean_df4.columns.tolist())\n"
      ],
      "metadata": {
        "colab": {
          "base_uri": "https://localhost:8080/"
        },
        "id": "4FnrTXeZPwow",
        "outputId": "fe2f9e76-02fa-492f-d0ac-83cc0d3971c9"
      },
      "execution_count": null,
      "outputs": [
        {
          "output_type": "stream",
          "name": "stdout",
          "text": [
            "Column names in Cleaned Meal Preferences DataFrame (df1):\n",
            "['Date', 'Time of Meal', 'Type of Meal', 'Main Dish', 'Side Dish(es)', 'Beverage', 'Calories Consumed (kcal)', 'Healthiness Rating', 'Satisfaction Level', 'Mood Before Meal', 'Mood After Meal', 'Location of Meal', 'Reason for Meal Choice', 'Company During Meal']\n",
            "\n",
            "Column names in Cleaned Morning Routine DataFrame (df2):\n",
            "['Date', 'Time Woken Up', 'First Activity', 'Duration of First Activity (min)', 'Time Started Breakfast', 'Type of Breakfast', 'Calories Consumed (kcal)', 'Healthiness Rating', 'Exercise Performed', 'Type of Exercise', 'Duration of Exercise (min)', 'Time Started Work/Study', 'Mood After Morning Routine', 'Weather', 'Time Spent Preparing (min)', 'Time Left Home']\n",
            "\n",
            "Column names in Cleaned Commute Patterns DataFrame (df3):\n",
            "['Date', 'Mode of Transportation', 'Departure Time (am)', 'Arrival Time (am)', 'Duration (min)', 'Distance Covered (KM)', 'Route Taken', 'Traffic Condition', 'Weather', 'Delays Encountered', 'Stress Level During Commute', 'Company During Commute', 'Reason for Commute', 'Commute Start Location', 'Commute End Location']\n",
            "\n",
            "Column names in Cleaned Study Habits DataFrame (df4):\n",
            "['Date', 'Start Time', 'End Time', 'Duration (min)', 'Subject', 'Type of Study Material', 'Study Location', 'Productivity Level', 'Number of Breaks', 'Duration of Breaks (min)', 'Distractions', 'Tools/Resources Used', 'Mood Before Study', 'Mood After Study', 'Goal', 'Achievement']\n"
          ]
        }
      ]
    },
    {
      "cell_type": "code",
      "source": [
        "# Merging the DataFrames on the 'Date' column\n",
        "combined_df = clean_df1.merge(clean_df2, on='Date', how='outer', suffixes=('_meal', '_morning'))\n",
        "combined_df = combined_df.merge(clean_df3, on='Date', how='outer', suffixes=('', '_commute'))\n",
        "combined_df = combined_df.merge(clean_df4, on='Date', how='outer', suffixes=('', '_study'))\n"
      ],
      "metadata": {
        "id": "ZL44kcDDQTkS"
      },
      "execution_count": null,
      "outputs": []
    },
    {
      "cell_type": "code",
      "source": [
        "print(\"\\nCombined DataFrame Shape:\", combined_df.shape)\n",
        "print(\"\\nCombined DataFrame Columns:\")\n",
        "print(combined_df.columns.tolist())\n",
        "\n",
        "# Check for missing values in the combined DataFrame\n",
        "print(\"\\nMissing Values in Combined DataFrame:\")\n",
        "print(combined_df.isnull().sum())"
      ],
      "metadata": {
        "colab": {
          "base_uri": "https://localhost:8080/"
        },
        "id": "P4udSG4oQ5f5",
        "outputId": "b1aecf31-c97b-4494-8eb2-45f5d8621b21"
      },
      "execution_count": null,
      "outputs": [
        {
          "output_type": "stream",
          "name": "stdout",
          "text": [
            "\n",
            "Combined DataFrame Shape: (1111, 58)\n",
            "\n",
            "Combined DataFrame Columns:\n",
            "['Date', 'Time of Meal', 'Type of Meal', 'Main Dish', 'Side Dish(es)', 'Beverage', 'Calories Consumed (kcal)_meal', 'Healthiness Rating_meal', 'Satisfaction Level', 'Mood Before Meal', 'Mood After Meal', 'Location of Meal', 'Reason for Meal Choice', 'Company During Meal', 'Time Woken Up', 'First Activity', 'Duration of First Activity (min)', 'Time Started Breakfast', 'Type of Breakfast', 'Calories Consumed (kcal)_morning', 'Healthiness Rating_morning', 'Exercise Performed', 'Type of Exercise', 'Duration of Exercise (min)', 'Time Started Work/Study', 'Mood After Morning Routine', 'Weather', 'Time Spent Preparing (min)', 'Time Left Home', 'Mode of Transportation', 'Departure Time (am)', 'Arrival Time (am)', 'Duration (min)', 'Distance Covered (KM)', 'Route Taken', 'Traffic Condition', 'Weather_commute', 'Delays Encountered', 'Stress Level During Commute', 'Company During Commute', 'Reason for Commute', 'Commute Start Location', 'Commute End Location', 'Start Time', 'End Time', 'Duration (min)_study', 'Subject', 'Type of Study Material', 'Study Location', 'Productivity Level', 'Number of Breaks', 'Duration of Breaks (min)', 'Distractions', 'Tools/Resources Used', 'Mood Before Study', 'Mood After Study', 'Goal', 'Achievement']\n",
            "\n",
            "Missing Values in Combined DataFrame:\n",
            "Date                                0\n",
            "Time of Meal                        1\n",
            "Type of Meal                        1\n",
            "Main Dish                           1\n",
            "Side Dish(es)                       1\n",
            "Beverage                            1\n",
            "Calories Consumed (kcal)_meal       1\n",
            "Healthiness Rating_meal             1\n",
            "Satisfaction Level                  1\n",
            "Mood Before Meal                    1\n",
            "Mood After Meal                     1\n",
            "Location of Meal                    1\n",
            "Reason for Meal Choice              1\n",
            "Company During Meal                 1\n",
            "Time Woken Up                       0\n",
            "First Activity                      0\n",
            "Duration of First Activity (min)    0\n",
            "Time Started Breakfast              0\n",
            "Type of Breakfast                   0\n",
            "Calories Consumed (kcal)_morning    0\n",
            "Healthiness Rating_morning          0\n",
            "Exercise Performed                  0\n",
            "Type of Exercise                    0\n",
            "Duration of Exercise (min)          0\n",
            "Time Started Work/Study             0\n",
            "Mood After Morning Routine          0\n",
            "Weather                             0\n",
            "Time Spent Preparing (min)          0\n",
            "Time Left Home                      0\n",
            "Mode of Transportation              1\n",
            "Departure Time (am)                 1\n",
            "Arrival Time (am)                   1\n",
            "Duration (min)                      1\n",
            "Distance Covered (KM)               1\n",
            "Route Taken                         1\n",
            "Traffic Condition                   1\n",
            "Weather_commute                     1\n",
            "Delays Encountered                  1\n",
            "Stress Level During Commute         1\n",
            "Company During Commute              1\n",
            "Reason for Commute                  1\n",
            "Commute Start Location              1\n",
            "Commute End Location                1\n",
            "Start Time                          1\n",
            "End Time                            1\n",
            "Duration (min)_study                1\n",
            "Subject                             1\n",
            "Type of Study Material              1\n",
            "Study Location                      1\n",
            "Productivity Level                  1\n",
            "Number of Breaks                    1\n",
            "Duration of Breaks (min)            1\n",
            "Distractions                        1\n",
            "Tools/Resources Used                1\n",
            "Mood Before Study                   1\n",
            "Mood After Study                    1\n",
            "Goal                                1\n",
            "Achievement                         1\n",
            "dtype: int64\n"
          ]
        }
      ]
    },
    {
      "cell_type": "code",
      "source": [
        "# Fill missing values in the combined DataFrame\n",
        "for column in combined_df.columns:\n",
        "    if combined_df[column].dtype == 'object':  # Categorical columns\n",
        "        combined_df[column] = combined_df[column].fillna(combined_df[column].mode()[0])\n",
        "    else:  # Numerical columns\n",
        "        # Calculate the mean and convert it to an integer if the dtype is Int64\n",
        "        mean_value = combined_df[column].mean()\n",
        "        if pd.api.types.is_integer_dtype(combined_df[column]):\n",
        "            mean_value = int(mean_value)  # Convert mean to integer if the column is integer type\n",
        "        combined_df[column] = combined_df[column].fillna(mean_value)\n",
        "\n",
        "# Check for remaining missing values\n",
        "print(\"\\nMissing Values After Filling:\")\n",
        "print(combined_df.isnull().sum())\n"
      ],
      "metadata": {
        "colab": {
          "base_uri": "https://localhost:8080/"
        },
        "id": "kOB1orotRLTW",
        "outputId": "d3f5636f-a13f-4c5f-a9d3-13008ea7b249"
      },
      "execution_count": null,
      "outputs": [
        {
          "output_type": "stream",
          "name": "stdout",
          "text": [
            "\n",
            "Missing Values After Filling:\n",
            "Date                                0\n",
            "Time of Meal                        0\n",
            "Type of Meal                        0\n",
            "Main Dish                           0\n",
            "Side Dish(es)                       0\n",
            "Beverage                            0\n",
            "Calories Consumed (kcal)_meal       0\n",
            "Healthiness Rating_meal             0\n",
            "Satisfaction Level                  0\n",
            "Mood Before Meal                    0\n",
            "Mood After Meal                     0\n",
            "Location of Meal                    0\n",
            "Reason for Meal Choice              0\n",
            "Company During Meal                 0\n",
            "Time Woken Up                       0\n",
            "First Activity                      0\n",
            "Duration of First Activity (min)    0\n",
            "Time Started Breakfast              0\n",
            "Type of Breakfast                   0\n",
            "Calories Consumed (kcal)_morning    0\n",
            "Healthiness Rating_morning          0\n",
            "Exercise Performed                  0\n",
            "Type of Exercise                    0\n",
            "Duration of Exercise (min)          0\n",
            "Time Started Work/Study             0\n",
            "Mood After Morning Routine          0\n",
            "Weather                             0\n",
            "Time Spent Preparing (min)          0\n",
            "Time Left Home                      0\n",
            "Mode of Transportation              0\n",
            "Departure Time (am)                 0\n",
            "Arrival Time (am)                   0\n",
            "Duration (min)                      0\n",
            "Distance Covered (KM)               0\n",
            "Route Taken                         0\n",
            "Traffic Condition                   0\n",
            "Weather_commute                     0\n",
            "Delays Encountered                  0\n",
            "Stress Level During Commute         0\n",
            "Company During Commute              0\n",
            "Reason for Commute                  0\n",
            "Commute Start Location              0\n",
            "Commute End Location                0\n",
            "Start Time                          0\n",
            "End Time                            0\n",
            "Duration (min)_study                0\n",
            "Subject                             0\n",
            "Type of Study Material              0\n",
            "Study Location                      0\n",
            "Productivity Level                  0\n",
            "Number of Breaks                    0\n",
            "Duration of Breaks (min)            0\n",
            "Distractions                        0\n",
            "Tools/Resources Used                0\n",
            "Mood Before Study                   0\n",
            "Mood After Study                    0\n",
            "Goal                                0\n",
            "Achievement                         0\n",
            "dtype: int64\n"
          ]
        }
      ]
    },
    {
      "cell_type": "code",
      "source": [
        "# Ensure the '/mnt/data' directory exists (for Colab users)\n",
        "import os\n",
        "\n",
        "if not os.path.exists('/mnt/data'):\n",
        "    os.makedirs('/mnt/data')\n",
        "\n",
        "# Save the combined DataFrame as an Excel file\n",
        "combined_df.to_excel('/mnt/data/combined_df.xlsx', index=False)\n",
        "\n",
        "# Print the file path for reference\n",
        "print(\"Excel file saved at: /mnt/data/combined_df.xlsx\")\n",
        "\n",
        "# Download the Excel file\n",
        "from google.colab import files\n",
        "files.download('/mnt/data/combined_df.xlsx')\n",
        "\n"
      ],
      "metadata": {
        "id": "6BBd4vBUbGNu",
        "colab": {
          "base_uri": "https://localhost:8080/",
          "height": 34
        },
        "outputId": "7503bef9-061c-467c-bbd6-8e52de846c59"
      },
      "execution_count": null,
      "outputs": [
        {
          "output_type": "stream",
          "name": "stdout",
          "text": [
            "Excel file saved at: /mnt/data/combined_df.xlsx\n"
          ]
        },
        {
          "output_type": "display_data",
          "data": {
            "text/plain": [
              "<IPython.core.display.Javascript object>"
            ],
            "application/javascript": [
              "\n",
              "    async function download(id, filename, size) {\n",
              "      if (!google.colab.kernel.accessAllowed) {\n",
              "        return;\n",
              "      }\n",
              "      const div = document.createElement('div');\n",
              "      const label = document.createElement('label');\n",
              "      label.textContent = `Downloading \"${filename}\": `;\n",
              "      div.appendChild(label);\n",
              "      const progress = document.createElement('progress');\n",
              "      progress.max = size;\n",
              "      div.appendChild(progress);\n",
              "      document.body.appendChild(div);\n",
              "\n",
              "      const buffers = [];\n",
              "      let downloaded = 0;\n",
              "\n",
              "      const channel = await google.colab.kernel.comms.open(id);\n",
              "      // Send a message to notify the kernel that we're ready.\n",
              "      channel.send({})\n",
              "\n",
              "      for await (const message of channel.messages) {\n",
              "        // Send a message to notify the kernel that we're ready.\n",
              "        channel.send({})\n",
              "        if (message.buffers) {\n",
              "          for (const buffer of message.buffers) {\n",
              "            buffers.push(buffer);\n",
              "            downloaded += buffer.byteLength;\n",
              "            progress.value = downloaded;\n",
              "          }\n",
              "        }\n",
              "      }\n",
              "      const blob = new Blob(buffers, {type: 'application/binary'});\n",
              "      const a = document.createElement('a');\n",
              "      a.href = window.URL.createObjectURL(blob);\n",
              "      a.download = filename;\n",
              "      div.appendChild(a);\n",
              "      a.click();\n",
              "      div.remove();\n",
              "    }\n",
              "  "
            ]
          },
          "metadata": {}
        },
        {
          "output_type": "display_data",
          "data": {
            "text/plain": [
              "<IPython.core.display.Javascript object>"
            ],
            "application/javascript": [
              "download(\"download_7d754e2c-9103-4ff9-8668-5fb2674187af\", \"combined_df.xlsx\", 274224)"
            ]
          },
          "metadata": {}
        }
      ]
    }
  ]
}